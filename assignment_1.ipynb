{
 "cells": [
  {
   "cell_type": "code",
   "execution_count": 1,
   "metadata": {},
   "outputs": [
    {
     "name": "stderr",
     "output_type": "stream",
     "text": [
      "2022-12-11 14:08:06.280984: I tensorflow/core/platform/cpu_feature_guard.cc:193] This TensorFlow binary is optimized with oneAPI Deep Neural Network Library (oneDNN) to use the following CPU instructions in performance-critical operations:  AVX2 FMA\n",
      "To enable them in other operations, rebuild TensorFlow with the appropriate compiler flags.\n"
     ]
    }
   ],
   "source": [
    "import os\n",
    "import pandas as pd\n",
    "import numpy as np\n",
    "from numpy import array\n",
    "from numpy import asarray\n",
    "from numpy import zeros\n",
    "from tensorflow import keras\n",
    "from keras.preprocessing.text import Tokenizer\n",
    "from keras.utils import pad_sequences\n",
    "from keras.models import Sequential\n",
    "from keras.layers import Dense\n",
    "from keras.layers import Flatten\n",
    "from keras.layers import Embedding\n",
    "from pathlib import Path\n",
    "import urllib.request\n",
    "import zipfile\n",
    "from tqdm import tqdm\n",
    "\n",
    "from sklearn.preprocessing import LabelEncoder\n",
    "from keras.utils import np_utils\n",
    "\n",
    "%load_ext autoreload\n",
    "%autoreload 2"
   ]
  },
  {
   "cell_type": "markdown",
   "metadata": {},
   "source": [
    "# Download and extract the dataset\n",
    "The dataset is downloaded from the provided URL and extracted into the 'Dataset' folder"
   ]
  },
  {
   "cell_type": "code",
   "execution_count": 2,
   "metadata": {},
   "outputs": [
    {
     "name": "stdout",
     "output_type": "stream",
     "text": [
      "Successful download\n",
      "Extracting dataset\n"
     ]
    }
   ],
   "source": [
    "# Download dataset\n",
    "url = 'https://raw.githubusercontent.com/nltk/nltk_data/gh-pages/packages/corpora/dependency_treebank.zip'\n",
    "\n",
    "# Create dataset folder if it doesn't exist\n",
    "dataset_folder = './Dataset'\n",
    "if not os.path.exists(dataset_folder):\n",
    "    print(dataset_folder, )\n",
    "    os.mkdir(dataset_folder)\n",
    "\n",
    "# Download dataset if it doesn't exist\n",
    "dataset_path = os.path.join(dataset_folder, 'dependency_treebank.zip')\n",
    "\n",
    "if not os.path.exists(dataset_path):\n",
    "    urllib.request.urlretrieve(url, dataset_path)\n",
    "    print(\"Successful download\")    \n",
    "    with zipfile.ZipFile(dataset_path, 'r') as zip_ref:\n",
    "        print(\"Extracting dataset\")\n",
    "        zip_ref.extractall(dataset_folder+'/dependency_treebank')\n",
    "    os.remove(dataset_path) # Remove zip file\n"
   ]
  },
  {
   "cell_type": "markdown",
   "metadata": {},
   "source": [
    "# Split the data\n",
    "The data (199 samples in total) is split into a train, validation and test set:\n",
    "- 100 train samples\n",
    "- 50 validation samples\n",
    "- 49 test samples \n",
    "The sets are stored in data frames."
   ]
  },
  {
   "cell_type": "code",
   "execution_count": 3,
   "metadata": {},
   "outputs": [
    {
     "name": "stderr",
     "output_type": "stream",
     "text": [
      "199it [00:00, 233.41it/s]\n"
     ]
    }
   ],
   "source": [
    "# Define split size\n",
    "TRAIN_SPLIT = 100\n",
    "VAL_SPLIT = 150\n",
    "\n",
    "# Define file iterator\n",
    "def file_iterator():\n",
    "    data_dir = Path('dependency_treebank')\n",
    "    for data_file in filter(lambda f: os.path.isfile(data_dir/f) and f.endswith('.dp'), os.listdir(data_dir)):\n",
    "        yield data_dir/data_file\n",
    "\n",
    "# Create train, val and test set\n",
    "data_set = []\n",
    "split_indexes = []\n",
    "frame_rows = []\n",
    "# Iterate over files and perform split\n",
    "for file in tqdm(file_iterator()):\n",
    "    document = pd.read_csv(file, sep=\"\\t\", names=['token', 'pos'], usecols=[0, 1], engine='python')\n",
    "    frame_row = {\n",
    "        'token': list(document['token']),\n",
    "        'pos': list(document['pos'])\n",
    "    }\n",
    "    frame_rows.append(frame_row)\n",
    "\n",
    "data_frame = pd.DataFrame(frame_rows)\n",
    "\n",
    "split = ['train']*TRAIN_SPLIT \\\n",
    "        + ['val']*(VAL_SPLIT-TRAIN_SPLIT) \\\n",
    "        + ['test']*(len(frame_rows)-VAL_SPLIT)\n",
    "\n",
    "assert len(split) == data_frame.shape[0]\n",
    "\n",
    "data_frame['split'] = split\n",
    "\n",
    "train_frame = data_frame[data_frame['split']=='train']\n",
    "test_frame =  data_frame[data_frame['split']=='test']\n",
    "val_frame =   data_frame[data_frame['split']=='val']"
   ]
  },
  {
   "cell_type": "markdown",
   "metadata": {},
   "source": [
    "Check the structure of the constructed data frames"
   ]
  },
  {
   "cell_type": "code",
   "execution_count": 4,
   "metadata": {},
   "outputs": [
    {
     "data": {
      "text/html": [
       "<div>\n",
       "<style scoped>\n",
       "    .dataframe tbody tr th:only-of-type {\n",
       "        vertical-align: middle;\n",
       "    }\n",
       "\n",
       "    .dataframe tbody tr th {\n",
       "        vertical-align: top;\n",
       "    }\n",
       "\n",
       "    .dataframe thead th {\n",
       "        text-align: right;\n",
       "    }\n",
       "</style>\n",
       "<table border=\"1\" class=\"dataframe\">\n",
       "  <thead>\n",
       "    <tr style=\"text-align: right;\">\n",
       "      <th></th>\n",
       "      <th>token</th>\n",
       "      <th>pos</th>\n",
       "      <th>split</th>\n",
       "    </tr>\n",
       "  </thead>\n",
       "  <tbody>\n",
       "    <tr>\n",
       "      <th>0</th>\n",
       "      <td>[In, reference, to, your, Oct., 9, page-one, a...</td>\n",
       "      <td>[IN, NN, TO, PRP$, NNP, CD, NN, NN, ``, NNP, N...</td>\n",
       "      <td>train</td>\n",
       "    </tr>\n",
       "    <tr>\n",
       "      <th>1</th>\n",
       "      <td>[Upjohn, Co., said, it, will, offer, an, early...</td>\n",
       "      <td>[NNP, NNP, VBD, PRP, MD, VB, DT, JJ, NN, NN, T...</td>\n",
       "      <td>train</td>\n",
       "    </tr>\n",
       "    <tr>\n",
       "      <th>2</th>\n",
       "      <td>[Komatsu, Ltd., ,, a, large, integrated, maker...</td>\n",
       "      <td>[NNP, NNP, ,, DT, JJ, VBN, NN, IN, NN, NN, ,, ...</td>\n",
       "      <td>train</td>\n",
       "    </tr>\n",
       "    <tr>\n",
       "      <th>3</th>\n",
       "      <td>[Judging, from, the, Americana, in, Haruki, Mu...</td>\n",
       "      <td>[VBG, IN, DT, NNS, IN, NNP, NNP, POS, ``, DT, ...</td>\n",
       "      <td>train</td>\n",
       "    </tr>\n",
       "    <tr>\n",
       "      <th>4</th>\n",
       "      <td>[Although, his, team, lost, the, World, Series...</td>\n",
       "      <td>[IN, PRP$, NN, VBD, DT, NNP, NNP, ,, NNP, NNP,...</td>\n",
       "      <td>train</td>\n",
       "    </tr>\n",
       "  </tbody>\n",
       "</table>\n",
       "</div>"
      ],
      "text/plain": [
       "                                               token  \\\n",
       "0  [In, reference, to, your, Oct., 9, page-one, a...   \n",
       "1  [Upjohn, Co., said, it, will, offer, an, early...   \n",
       "2  [Komatsu, Ltd., ,, a, large, integrated, maker...   \n",
       "3  [Judging, from, the, Americana, in, Haruki, Mu...   \n",
       "4  [Although, his, team, lost, the, World, Series...   \n",
       "\n",
       "                                                 pos  split  \n",
       "0  [IN, NN, TO, PRP$, NNP, CD, NN, NN, ``, NNP, N...  train  \n",
       "1  [NNP, NNP, VBD, PRP, MD, VB, DT, JJ, NN, NN, T...  train  \n",
       "2  [NNP, NNP, ,, DT, JJ, VBN, NN, IN, NN, NN, ,, ...  train  \n",
       "3  [VBG, IN, DT, NNS, IN, NNP, NNP, POS, ``, DT, ...  train  \n",
       "4  [IN, PRP$, NN, VBD, DT, NNP, NNP, ,, NNP, NNP,...  train  "
      ]
     },
     "execution_count": 4,
     "metadata": {},
     "output_type": "execute_result"
    }
   ],
   "source": [
    "train_frame.head()"
   ]
  },
  {
   "cell_type": "code",
   "execution_count": 5,
   "metadata": {},
   "outputs": [
    {
     "data": {
      "text/html": [
       "<div>\n",
       "<style scoped>\n",
       "    .dataframe tbody tr th:only-of-type {\n",
       "        vertical-align: middle;\n",
       "    }\n",
       "\n",
       "    .dataframe tbody tr th {\n",
       "        vertical-align: top;\n",
       "    }\n",
       "\n",
       "    .dataframe thead th {\n",
       "        text-align: right;\n",
       "    }\n",
       "</style>\n",
       "<table border=\"1\" class=\"dataframe\">\n",
       "  <thead>\n",
       "    <tr style=\"text-align: right;\">\n",
       "      <th></th>\n",
       "      <th>token</th>\n",
       "      <th>pos</th>\n",
       "      <th>split</th>\n",
       "    </tr>\n",
       "  </thead>\n",
       "  <tbody>\n",
       "    <tr>\n",
       "      <th>150</th>\n",
       "      <td>[For, six, years, ,, T., Marshall, Hahn, Jr., ...</td>\n",
       "      <td>[IN, CD, NNS, ,, NNP, NNP, NNP, NNP, VBZ, VBN,...</td>\n",
       "      <td>test</td>\n",
       "    </tr>\n",
       "    <tr>\n",
       "      <th>151</th>\n",
       "      <td>[Boeing, Co., said, it, is, discussing, plans,...</td>\n",
       "      <td>[NNP, NNP, VBD, PRP, VBZ, VBG, NNS, IN, CD, IN...</td>\n",
       "      <td>test</td>\n",
       "    </tr>\n",
       "    <tr>\n",
       "      <th>152</th>\n",
       "      <td>[Intelogic, Trace, Inc., ,, San, Antonio, ,, T...</td>\n",
       "      <td>[NNP, NNP, NNP, ,, NNP, NNP, ,, NNP, ,, VBD, P...</td>\n",
       "      <td>test</td>\n",
       "    </tr>\n",
       "    <tr>\n",
       "      <th>153</th>\n",
       "      <td>[South, Korea, registered, a, trade, deficit, ...</td>\n",
       "      <td>[NNP, NNP, VBD, DT, NN, NN, IN, $, CD, CD, IN,...</td>\n",
       "      <td>test</td>\n",
       "    </tr>\n",
       "    <tr>\n",
       "      <th>154</th>\n",
       "      <td>[Five, things, you, can, do, for, $, 15,000, o...</td>\n",
       "      <td>[CD, NNS, PRP, MD, VB, IN, $, CD, CC, JJR, :, ...</td>\n",
       "      <td>test</td>\n",
       "    </tr>\n",
       "  </tbody>\n",
       "</table>\n",
       "</div>"
      ],
      "text/plain": [
       "                                                 token  \\\n",
       "150  [For, six, years, ,, T., Marshall, Hahn, Jr., ...   \n",
       "151  [Boeing, Co., said, it, is, discussing, plans,...   \n",
       "152  [Intelogic, Trace, Inc., ,, San, Antonio, ,, T...   \n",
       "153  [South, Korea, registered, a, trade, deficit, ...   \n",
       "154  [Five, things, you, can, do, for, $, 15,000, o...   \n",
       "\n",
       "                                                   pos split  \n",
       "150  [IN, CD, NNS, ,, NNP, NNP, NNP, NNP, VBZ, VBN,...  test  \n",
       "151  [NNP, NNP, VBD, PRP, VBZ, VBG, NNS, IN, CD, IN...  test  \n",
       "152  [NNP, NNP, NNP, ,, NNP, NNP, ,, NNP, ,, VBD, P...  test  \n",
       "153  [NNP, NNP, VBD, DT, NN, NN, IN, $, CD, CD, IN,...  test  \n",
       "154  [CD, NNS, PRP, MD, VB, IN, $, CD, CC, JJR, :, ...  test  "
      ]
     },
     "execution_count": 5,
     "metadata": {},
     "output_type": "execute_result"
    }
   ],
   "source": [
    "test_frame.head()"
   ]
  },
  {
   "cell_type": "code",
   "execution_count": 6,
   "metadata": {},
   "outputs": [
    {
     "data": {
      "text/html": [
       "<div>\n",
       "<style scoped>\n",
       "    .dataframe tbody tr th:only-of-type {\n",
       "        vertical-align: middle;\n",
       "    }\n",
       "\n",
       "    .dataframe tbody tr th {\n",
       "        vertical-align: top;\n",
       "    }\n",
       "\n",
       "    .dataframe thead th {\n",
       "        text-align: right;\n",
       "    }\n",
       "</style>\n",
       "<table border=\"1\" class=\"dataframe\">\n",
       "  <thead>\n",
       "    <tr style=\"text-align: right;\">\n",
       "      <th></th>\n",
       "      <th>token</th>\n",
       "      <th>pos</th>\n",
       "      <th>split</th>\n",
       "    </tr>\n",
       "  </thead>\n",
       "  <tbody>\n",
       "    <tr>\n",
       "      <th>100</th>\n",
       "      <td>[Lord, Chilver, ,, 63-year-old, chairman, of, ...</td>\n",
       "      <td>[NNP, NNP, ,, JJ, NN, IN, NNP, NNP, NNP, NNP, ...</td>\n",
       "      <td>val</td>\n",
       "    </tr>\n",
       "    <tr>\n",
       "      <th>101</th>\n",
       "      <td>[Meridian, National, Corp., said, it, sold, 75...</td>\n",
       "      <td>[NNP, NNP, NNP, VBD, PRP, VBD, CD, NNS, IN, PR...</td>\n",
       "      <td>val</td>\n",
       "    </tr>\n",
       "    <tr>\n",
       "      <th>102</th>\n",
       "      <td>[Eaton, Corp., said, it, sold, its, Pacific, S...</td>\n",
       "      <td>[NNP, NNP, VBD, PRP, VBD, PRP$, NNP, NNP, NNP,...</td>\n",
       "      <td>val</td>\n",
       "    </tr>\n",
       "    <tr>\n",
       "      <th>103</th>\n",
       "      <td>[Hold, the, Putty, !, With, lipsticks, ,, line...</td>\n",
       "      <td>[VB, DT, NN, ., IN, NNS, ,, NNS, ,, NNS, CC, N...</td>\n",
       "      <td>val</td>\n",
       "    </tr>\n",
       "    <tr>\n",
       "      <th>104</th>\n",
       "      <td>[The, dollar, posted, gains, against, all, maj...</td>\n",
       "      <td>[DT, NN, VBD, NNS, IN, DT, JJ, NNS, NN, ,, VBN...</td>\n",
       "      <td>val</td>\n",
       "    </tr>\n",
       "  </tbody>\n",
       "</table>\n",
       "</div>"
      ],
      "text/plain": [
       "                                                 token  \\\n",
       "100  [Lord, Chilver, ,, 63-year-old, chairman, of, ...   \n",
       "101  [Meridian, National, Corp., said, it, sold, 75...   \n",
       "102  [Eaton, Corp., said, it, sold, its, Pacific, S...   \n",
       "103  [Hold, the, Putty, !, With, lipsticks, ,, line...   \n",
       "104  [The, dollar, posted, gains, against, all, maj...   \n",
       "\n",
       "                                                   pos split  \n",
       "100  [NNP, NNP, ,, JJ, NN, IN, NNP, NNP, NNP, NNP, ...   val  \n",
       "101  [NNP, NNP, NNP, VBD, PRP, VBD, CD, NNS, IN, PR...   val  \n",
       "102  [NNP, NNP, VBD, PRP, VBD, PRP$, NNP, NNP, NNP,...   val  \n",
       "103  [VB, DT, NN, ., IN, NNS, ,, NNS, ,, NNS, CC, N...   val  \n",
       "104  [DT, NN, VBD, NNS, IN, DT, JJ, NNS, NN, ,, VBN...   val  "
      ]
     },
     "execution_count": 6,
     "metadata": {},
     "output_type": "execute_result"
    }
   ],
   "source": [
    "val_frame.head()"
   ]
  },
  {
   "cell_type": "markdown",
   "metadata": {},
   "source": [
    "# Tokenization and padding\n",
    "The data frames are now tokenized and additional padded to have a unit input length "
   ]
  },
  {
   "cell_type": "code",
   "execution_count": 7,
   "metadata": {},
   "outputs": [],
   "source": [
    "# Routine to tokenize and pad data to unit length\n",
    "def tokenize_and_pad(data_frame, trained_tokenizer=None, maxlen=0):\n",
    "    if trained_tokenizer is None:\n",
    "        trained_tokenizer = Tokenizer()\n",
    "        trained_tokenizer.fit_on_texts(data_frame['token'].values)\n",
    "    \n",
    "    vocab_size = len(trained_tokenizer.word_index) + 1\n",
    "    \n",
    "    encoded_docs = trained_tokenizer.texts_to_sequences(data_frame['token'].values)\n",
    "    \n",
    "    if maxlen==0:\n",
    "        #Use this line to pad to the length that 99% of the documents are included, truncuate the longer docs\n",
    "        maxlen = int(np.quantile([len(d) for d in encoded_docs], 0.99))\n",
    "\n",
    "        #Use this line to pad for the max existing document\n",
    "        #maxlen = max([len(d) for d in encoded_docs])\n",
    "\n",
    "    padded_docs = pad_sequences(encoded_docs, maxlen=maxlen, padding='post')\n",
    "\n",
    "    padded_labels = []\n",
    "    for doc in data_frame['pos']:\n",
    "        to_pad = maxlen-len(doc)\n",
    "        \n",
    "        if to_pad<0:\n",
    "            t = doc[:maxlen]\n",
    "        else:\n",
    "            t = doc + ['0']*(maxlen-len(doc))\n",
    "        \n",
    "        padded_labels.append(t)\n",
    "\n",
    "    return padded_docs, vocab_size, trained_tokenizer, padded_labels, maxlen\n",
    "\n",
    "\n",
    "# train set, train the tokenizer and determine padding length\n",
    "train_padded_docs, train_vocab_size, train_tokenizer, train_padded_labels, maxlen = tokenize_and_pad(train_frame)\n",
    "\n",
    "# val and test set, use the pretrained tokenizer and the max-padding length\n",
    "val_padded_docs, val_vocab_size, val_tokenizer, val_padded_labels, maxlen = tokenize_and_pad(val_frame, train_tokenizer, maxlen)\n",
    "test_padded_docs, test_vocab_size, test_tokenizer, test_padded_labels, maxlen = tokenize_and_pad(test_frame, train_tokenizer, maxlen)\n",
    "\n",
    "# Check if all the shapes have been padded to the correct length\n",
    "assert train_padded_docs.shape[1] == val_padded_docs.shape[1] == test_padded_docs.shape[1] == maxlen\n",
    "assert all(len(v)==maxlen for v in train_padded_labels)\n",
    "assert all(len(v)==maxlen for v in test_padded_labels)\n",
    "assert all(len(v)==maxlen for v in val_padded_labels)"
   ]
  },
  {
   "cell_type": "markdown",
   "metadata": {},
   "source": [
    "# Create embedding matrix\n",
    "First, the pretrained glove-embedding has been downloaded from https://nlp.stanford.edu/projects/glove/ and converted to a dictionary format (100-dimensional embeddings)."
   ]
  },
  {
   "cell_type": "code",
   "execution_count": 8,
   "metadata": {},
   "outputs": [
    {
     "name": "stderr",
     "output_type": "stream",
     "text": [
      "400000it [00:10, 38487.82it/s]"
     ]
    },
    {
     "name": "stdout",
     "output_type": "stream",
     "text": [
      "Loaded 400000 word vectors.\n"
     ]
    },
    {
     "name": "stderr",
     "output_type": "stream",
     "text": [
      "\n"
     ]
    }
   ],
   "source": [
    "embeddings_index = dict()\n",
    "with open('glove.6B.100d.txt') as f:\n",
    "    for line in tqdm(f):\n",
    "        values = line.split()\n",
    "        embeddings_index[values[0]] = asarray(values[1:], dtype='float32')\n",
    "\n",
    "print('Loaded %s word vectors.' % len(embeddings_index))"
   ]
  },
  {
   "cell_type": "markdown",
   "metadata": {},
   "source": [
    "Define a function to create an embedding matrix from a given vocabulary, using the previously loaded glove-embeddings"
   ]
  },
  {
   "cell_type": "code",
   "execution_count": 9,
   "metadata": {},
   "outputs": [],
   "source": [
    "def create_embedding_matrix(tokenizer, vocab_size):\n",
    "    # load embedding into memory, skip first\n",
    "    embedding_matrix = zeros((vocab_size, 100))\n",
    "    for word, i in tokenizer.word_index.items():\n",
    "        embedding_vector = embeddings_index.get(word)\n",
    "        if embedding_vector is not None:\n",
    "            embedding_matrix[i] = embedding_vector\n",
    "        else:\n",
    "            # Unknowns are treated by inserting a zero-embedding-vector\n",
    "            pass\n",
    "    return embedding_matrix"
   ]
  },
  {
   "cell_type": "markdown",
   "metadata": {},
   "source": [
    "# Define and train the model\n",
    "## Encode the POS-labels\n",
    "We also need to convert the POS labels to a numerical representation (one-hot-encoding).  \n",
    "Therefore, the label encoder is fitted to the train and validation set. Next, we extract a dictionary of the encoded labels, where we publish the '0' tag to the list of known flags, that has been used to pad the sequences. Unknown flags are marked with another numerical value."
   ]
  },
  {
   "cell_type": "code",
   "execution_count": 10,
   "metadata": {},
   "outputs": [
    {
     "data": {
      "text/html": [
       "<style>#sk-container-id-1 {color: black;background-color: white;}#sk-container-id-1 pre{padding: 0;}#sk-container-id-1 div.sk-toggleable {background-color: white;}#sk-container-id-1 label.sk-toggleable__label {cursor: pointer;display: block;width: 100%;margin-bottom: 0;padding: 0.3em;box-sizing: border-box;text-align: center;}#sk-container-id-1 label.sk-toggleable__label-arrow:before {content: \"▸\";float: left;margin-right: 0.25em;color: #696969;}#sk-container-id-1 label.sk-toggleable__label-arrow:hover:before {color: black;}#sk-container-id-1 div.sk-estimator:hover label.sk-toggleable__label-arrow:before {color: black;}#sk-container-id-1 div.sk-toggleable__content {max-height: 0;max-width: 0;overflow: hidden;text-align: left;background-color: #f0f8ff;}#sk-container-id-1 div.sk-toggleable__content pre {margin: 0.2em;color: black;border-radius: 0.25em;background-color: #f0f8ff;}#sk-container-id-1 input.sk-toggleable__control:checked~div.sk-toggleable__content {max-height: 200px;max-width: 100%;overflow: auto;}#sk-container-id-1 input.sk-toggleable__control:checked~label.sk-toggleable__label-arrow:before {content: \"▾\";}#sk-container-id-1 div.sk-estimator input.sk-toggleable__control:checked~label.sk-toggleable__label {background-color: #d4ebff;}#sk-container-id-1 div.sk-label input.sk-toggleable__control:checked~label.sk-toggleable__label {background-color: #d4ebff;}#sk-container-id-1 input.sk-hidden--visually {border: 0;clip: rect(1px 1px 1px 1px);clip: rect(1px, 1px, 1px, 1px);height: 1px;margin: -1px;overflow: hidden;padding: 0;position: absolute;width: 1px;}#sk-container-id-1 div.sk-estimator {font-family: monospace;background-color: #f0f8ff;border: 1px dotted black;border-radius: 0.25em;box-sizing: border-box;margin-bottom: 0.5em;}#sk-container-id-1 div.sk-estimator:hover {background-color: #d4ebff;}#sk-container-id-1 div.sk-parallel-item::after {content: \"\";width: 100%;border-bottom: 1px solid gray;flex-grow: 1;}#sk-container-id-1 div.sk-label:hover label.sk-toggleable__label {background-color: #d4ebff;}#sk-container-id-1 div.sk-serial::before {content: \"\";position: absolute;border-left: 1px solid gray;box-sizing: border-box;top: 0;bottom: 0;left: 50%;z-index: 0;}#sk-container-id-1 div.sk-serial {display: flex;flex-direction: column;align-items: center;background-color: white;padding-right: 0.2em;padding-left: 0.2em;position: relative;}#sk-container-id-1 div.sk-item {position: relative;z-index: 1;}#sk-container-id-1 div.sk-parallel {display: flex;align-items: stretch;justify-content: center;background-color: white;position: relative;}#sk-container-id-1 div.sk-item::before, #sk-container-id-1 div.sk-parallel-item::before {content: \"\";position: absolute;border-left: 1px solid gray;box-sizing: border-box;top: 0;bottom: 0;left: 50%;z-index: -1;}#sk-container-id-1 div.sk-parallel-item {display: flex;flex-direction: column;z-index: 1;position: relative;background-color: white;}#sk-container-id-1 div.sk-parallel-item:first-child::after {align-self: flex-end;width: 50%;}#sk-container-id-1 div.sk-parallel-item:last-child::after {align-self: flex-start;width: 50%;}#sk-container-id-1 div.sk-parallel-item:only-child::after {width: 0;}#sk-container-id-1 div.sk-dashed-wrapped {border: 1px dashed gray;margin: 0 0.4em 0.5em 0.4em;box-sizing: border-box;padding-bottom: 0.4em;background-color: white;}#sk-container-id-1 div.sk-label label {font-family: monospace;font-weight: bold;display: inline-block;line-height: 1.2em;}#sk-container-id-1 div.sk-label-container {text-align: center;}#sk-container-id-1 div.sk-container {/* jupyter's `normalize.less` sets `[hidden] { display: none; }` but bootstrap.min.css set `[hidden] { display: none !important; }` so we also need the `!important` here to be able to override the default hidden behavior on the sphinx rendered scikit-learn.org. See: https://github.com/scikit-learn/scikit-learn/issues/21755 */display: inline-block !important;position: relative;}#sk-container-id-1 div.sk-text-repr-fallback {display: none;}</style><div id=\"sk-container-id-1\" class=\"sk-top-container\"><div class=\"sk-text-repr-fallback\"><pre>LabelEncoder()</pre><b>In a Jupyter environment, please rerun this cell to show the HTML representation or trust the notebook. <br />On GitHub, the HTML representation is unable to render, please try loading this page with nbviewer.org.</b></div><div class=\"sk-container\" hidden><div class=\"sk-item\"><div class=\"sk-estimator sk-toggleable\"><input class=\"sk-toggleable__control sk-hidden--visually\" id=\"sk-estimator-id-1\" type=\"checkbox\" checked><label for=\"sk-estimator-id-1\" class=\"sk-toggleable__label sk-toggleable__label-arrow\">LabelEncoder</label><div class=\"sk-toggleable__content\"><pre>LabelEncoder()</pre></div></div></div></div></div>"
      ],
      "text/plain": [
       "LabelEncoder()"
      ]
     },
     "execution_count": 10,
     "metadata": {},
     "output_type": "execute_result"
    }
   ],
   "source": [
    "import itertools\n",
    "\n",
    "# Fit the encoder on train and validation set\n",
    "all_labels = list(itertools.chain.from_iterable(data_frame[data_frame['split'] != 'test']['pos']))\n",
    "trained_encoder = LabelEncoder()\n",
    "trained_encoder.fit(all_labels)"
   ]
  },
  {
   "cell_type": "code",
   "execution_count": 36,
   "metadata": {},
   "outputs": [],
   "source": [
    "from collections import OrderedDict\n",
    "\n",
    "le_dict = OrderedDict(zip(trained_encoder.classes_, trained_encoder.transform(trained_encoder.classes_)))\n",
    "# Add the stop tag to the trained dictionary\n",
    "le_dict['0'] = len(le_dict)"
   ]
  },
  {
   "cell_type": "code",
   "execution_count": 12,
   "metadata": {},
   "outputs": [],
   "source": [
    "def encode_labels(labels, le_dict):\n",
    "    ukn_tag = len(le_dict)\n",
    "    encoded_Y = []\n",
    "    for value in labels:\n",
    "        # Get the encoded value, add the 'ukn_tag' if the tag is not present in the validation or training set\n",
    "        encoded_doc_labels = [le_dict.get(pos, ukn_tag) for pos in value]\n",
    "        encoded_Y.append(encoded_doc_labels)\n",
    "    labels = np_utils.to_categorical(encoded_Y)\n",
    "    return labels\n",
    "\n",
    "y_train = encode_labels(train_padded_labels, le_dict)\n",
    "y_val = encode_labels(val_padded_labels, le_dict)\n",
    "y_test = encode_labels(test_padded_labels, le_dict)\n",
    "\n",
    "n_tags = len(le_dict)\n",
    "\n",
    "# Check for the correct shapes\n",
    "assert y_train.shape == (TRAIN_SPLIT, maxlen, n_tags)\n",
    "assert y_val.shape == (VAL_SPLIT-TRAIN_SPLIT, maxlen, n_tags)\n",
    "assert y_test.shape == (data_frame.shape[0]-VAL_SPLIT, maxlen, n_tags)"
   ]
  },
  {
   "cell_type": "markdown",
   "metadata": {},
   "source": [
    "## Define the structure and layers of the used model\n",
    "Here, a sequential model is used, that receives tokens using an Embedding layer (embedding with the loaded glove-embeddings).  \n",
    "The recurrent structure is implemented using a LSTM layer with 128-units.  \n",
    "First, show a summary of the data:"
   ]
  },
  {
   "cell_type": "code",
   "execution_count": 13,
   "metadata": {},
   "outputs": [
    {
     "name": "stdout",
     "output_type": "stream",
     "text": [
      "Trainings data:\n",
      "   data: (100, 1892, 1)\n",
      "   label: (100, 1892, 46)\n",
      "Validation data:\n",
      "   data: (50, 1892, 1)\n",
      "   label: (50, 1892, 46)\n",
      "Testing data:\n",
      "   data: (49, 1892, 1)\n",
      "   label: (49, 1892, 46)\n"
     ]
    }
   ],
   "source": [
    "train_padded_docs = train_padded_docs.reshape(100, 1892, 1)\n",
    "val_padded_docs = val_padded_docs.reshape(50, 1892, 1)\n",
    "test_padded_docs = test_padded_docs.reshape(49, 1892, 1)\n",
    "\n",
    "print(\"Trainings data:\")\n",
    "print(\"   data:\", train_padded_docs.shape)\n",
    "print(\"   label:\", y_train.shape)\n",
    "\n",
    "print(\"Validation data:\")\n",
    "print(\"   data:\", val_padded_docs.shape)\n",
    "print(\"   label:\", y_val.shape)\n",
    "\n",
    "print(\"Testing data:\")\n",
    "print(\"   data:\", test_padded_docs.shape)\n",
    "print(\"   label:\", y_test.shape)"
   ]
  },
  {
   "cell_type": "code",
   "execution_count": 24,
   "metadata": {},
   "outputs": [],
   "source": [
    "def create_model(vocab_size,\n",
    "                 input_length,\n",
    "                 embedding_matrix,\n",
    "                 plot_model=False,\n",
    "                 model_type='base',\n",
    "                 activation='softmax'):\n",
    "    # define model\n",
    "    model = Sequential()\n",
    "    \n",
    "    # Input as Embeddings\n",
    "    # TODO: input length?\n",
    "    model.add(Embedding(vocab_size, 100, weights=[embedding_matrix], input_length=input_length, trainable=False))\n",
    "\n",
    "    if model_type == 'base':\n",
    "        # A Bidirectional recurrent layer (LSTM units)\n",
    "        model.add(keras.layers.Bidirectional(keras.layers.LSTM(units=128, return_sequences=True), input_shape=(None, 100)))\n",
    "        # Dense layer to fit output to label-vector-size\n",
    "        model.add(Dense(46, activation=activation))\n",
    "    elif model_type == 'gru':\n",
    "        model.add(keras.layers.Bidirectional(keras.layers.GRU(units=128), input_shape=(None, 50)))\n",
    "        # Dense layer to fit output to label-vector-size\n",
    "        model.add(Dense(46, activation=activation))\n",
    "    elif model_type == 'lstm':\n",
    "        model.add(keras.layers.Bidirectional(keras.layers.LSTM(units=128, return_sequences=True), input_shape=(None, 50)))\n",
    "        model.add(keras.layers.LSTM(units=128))\n",
    "        # Dense layer to fit output to label-vector-size\n",
    "        model.add(Dense(46, activation=activation))\n",
    "    elif model_type == 'dense':\n",
    "        model.add(keras.layers.Bidirectional(keras.layers.LSTM(units=128), input_shape=(None, 50)))\n",
    "        model.add(Dense(128, activation='relu'))\n",
    "        # Dense layer to fit output to label-vector-size\n",
    "        model.add(Dense(46, activation=activation))\n",
    "    else:\n",
    "        print(\"No model type specified\")\n",
    "        exit()\n",
    "\n",
    "    #TODO: Put in train function\n",
    "    model.compile(optimizer='adam', loss='categorical_crossentropy', metrics=['accuracy'])\n",
    "\n",
    "    # model.summary()\n",
    "    if plot_model:\n",
    "        keras.utils.plot_model(model, to_file='model.png', show_shapes=True, show_layer_names=True)\n",
    "    return model\n"
   ]
  },
  {
   "cell_type": "markdown",
   "metadata": {},
   "source": [
    "Train routine using a bidirectional LSTM layern with 128 units  \n",
    "Evaluate the models training progress using the validation set"
   ]
  },
  {
   "cell_type": "code",
   "execution_count": 25,
   "metadata": {},
   "outputs": [
    {
     "name": "stdout",
     "output_type": "stream",
     "text": [
      "Create model...\n"
     ]
    },
    {
     "name": "stderr",
     "output_type": "stream",
     "text": [
      "2022-12-11 14:13:23.636631: I tensorflow/core/platform/cpu_feature_guard.cc:193] This TensorFlow binary is optimized with oneAPI Deep Neural Network Library (oneDNN) to use the following CPU instructions in performance-critical operations:  AVX2 FMA\n",
      "To enable them in other operations, rebuild TensorFlow with the appropriate compiler flags.\n"
     ]
    },
    {
     "name": "stdout",
     "output_type": "stream",
     "text": [
      "Model: \"sequential\"\n",
      "_________________________________________________________________\n",
      " Layer (type)                Output Shape              Param #   \n",
      "=================================================================\n",
      " embedding (Embedding)       (None, 1892, 100)         683200    \n",
      "                                                                 \n",
      " bidirectional (Bidirectiona  (None, 1892, 256)        234496    \n",
      " l)                                                              \n",
      "                                                                 \n",
      " dense (Dense)               (None, 1892, 46)          11822     \n",
      "                                                                 \n",
      "=================================================================\n",
      "Total params: 929,518\n",
      "Trainable params: 246,318\n",
      "Non-trainable params: 683,200\n",
      "_________________________________________________________________\n",
      "Fit model to train data in 15 epochs... \n",
      "Epoch 1/10\n",
      "13/13 [==============================] - 21s 1s/step - loss: 3.4820 - accuracy: 0.7390 - val_loss: 1.6814 - val_accuracy: 0.7417\n",
      "Epoch 2/10\n",
      "13/13 [==============================] - 14s 1s/step - loss: 0.7384 - accuracy: 0.8272 - val_loss: 1.1284 - val_accuracy: 0.7476\n",
      "Epoch 3/10\n",
      "13/13 [==============================] - 13s 1s/step - loss: 0.6102 - accuracy: 0.8495 - val_loss: 1.2185 - val_accuracy: 0.7441\n",
      "Epoch 4/10\n",
      "13/13 [==============================] - 16s 1s/step - loss: 0.5400 - accuracy: 0.8686 - val_loss: 1.2336 - val_accuracy: 0.7428\n",
      "Epoch 5/10\n",
      "13/13 [==============================] - 16s 1s/step - loss: 0.4846 - accuracy: 0.8834 - val_loss: 1.2512 - val_accuracy: 0.7414\n",
      "Epoch 6/10\n",
      "13/13 [==============================] - 16s 1s/step - loss: 0.4325 - accuracy: 0.8923 - val_loss: 1.2832 - val_accuracy: 0.7405\n",
      "Epoch 7/10\n",
      "13/13 [==============================] - 15s 1s/step - loss: 0.3877 - accuracy: 0.9030 - val_loss: 1.3344 - val_accuracy: 0.7390\n",
      "Epoch 8/10\n",
      "13/13 [==============================] - 14s 1s/step - loss: 0.3478 - accuracy: 0.9154 - val_loss: 1.3774 - val_accuracy: 0.7380\n",
      "Epoch 9/10\n",
      "13/13 [==============================] - 14s 1s/step - loss: 0.3152 - accuracy: 0.9255 - val_loss: 1.4256 - val_accuracy: 0.7379\n",
      "Epoch 10/10\n",
      "13/13 [==============================] - 14s 1s/step - loss: 0.2885 - accuracy: 0.9317 - val_loss: 1.4789 - val_accuracy: 0.7370\n"
     ]
    },
    {
     "data": {
      "image/png": "[encoded data removed]",
      "text/plain": [
       "<Figure size 640x480 with 1 Axes>"
      ]
     },
     "metadata": {},
     "output_type": "display_data"
    },
    {
     "data": {
      "image/png": "[encoded data removed]",
      "text/plain": [
       "<Figure size 640x480 with 1 Axes>"
      ]
     },
     "metadata": {},
     "output_type": "display_data"
    },
    {
     "name": "stdout",
     "output_type": "stream",
     "text": [
      "Print full report on validation data...\n",
      "Print full report on test data...\n"
     ]
    },
    {
     "ename": "TypeError",
     "evalue": "encode_labels() missing 1 required positional argument: 'le_dict'",
     "output_type": "error",
     "traceback": [
      "\u001b[0;31m---------------------------------------------------------------------------\u001b[0m",
      "\u001b[0;31mTypeError\u001b[0m                                 Traceback (most recent call last)",
      "Cell \u001b[0;32mIn [25], line 24\u001b[0m\n\u001b[1;32m     22\u001b[0m \u001b[39mprint\u001b[39m(\u001b[39m\"\u001b[39m\u001b[39mPrint full report on test data...\u001b[39m\u001b[39m\"\u001b[39m)\n\u001b[1;32m     23\u001b[0m \u001b[39m# predict test data\u001b[39;00m\n\u001b[0;32m---> 24\u001b[0m test_labels, test_encoder \u001b[39m=\u001b[39m encode_labels(test_frame)\n\u001b[1;32m     25\u001b[0m full_multiclass_report(model, test_padded_docs, test_labels, classes\u001b[39m=\u001b[39mtest_encoder\u001b[39m.\u001b[39minverse_transform(np\u001b[39m.\u001b[39marange(\u001b[39m42\u001b[39m)))\n",
      "\u001b[0;31mTypeError\u001b[0m: encode_labels() missing 1 required positional argument: 'le_dict'"
     ]
    }
   ],
   "source": [
    "#Base model\n",
    "from utils import *\n",
    "\n",
    "train_embedding_matrix = create_embedding_matrix(train_tokenizer, train_vocab_size)\n",
    "\n",
    "print(\"Create model...\")\n",
    "model = create_model(train_vocab_size, maxlen, train_embedding_matrix, plot_model=True)\n",
    "\n",
    "model.summary()\n",
    "\n",
    "# val_labels, val_encoder = encode_labels(val_frame)\n",
    "#val_data = (val_padded_docs, val_labels)\n",
    "\n",
    "print(\"Fit model to train data in\", 15, \"epochs... \")\n",
    "history = model.fit(train_padded_docs, y_train, validation_data=(val_padded_docs, y_val), epochs=10, verbose=1, batch_size=8)\n",
    "plot_history(history)\n"
   ]
  },
  {
   "cell_type": "code",
   "execution_count": 54,
   "metadata": {},
   "outputs": [
    {
     "name": "stdout",
     "output_type": "stream",
     "text": [
      "Print full report on validation data...\n",
      "2/2 [==============================] - 2s 716ms/step\n",
      "(50, 1892, 46)\n",
      "(50, 1892, 46)\n"
     ]
    }
   ],
   "source": [
    "print(\"Print full report on validation data...\")\n",
    "\n",
    "classes = np.array(list(le_dict.keys()))\n",
    "\n",
    "y_pred = model.predict(val_padded_docs)\n",
    "\n",
    "print(y.shape)\n",
    "print(y_val.shape)\n",
    "\n",
    "for row in y_pred:\n",
    "    "
   ]
  },
  {
   "cell_type": "code",
   "execution_count": null,
   "metadata": {},
   "outputs": [],
   "source": [
    "\n",
    "\n",
    "# predict val data\n",
    "full_multiclass_report(model=model, x=val_padded_docs, y_true=y_val, classes=classes)\n",
    "\n",
    "print(\"Print full report on test data...\")\n",
    "\n",
    "# predict test data\n",
    "full_multiclass_report(model, test_padded_docs, y_test, classes=classes)"
   ]
  },
  {
   "cell_type": "code",
   "execution_count": 66,
   "metadata": {
    "collapsed": false,
    "pycharm": {
     "name": "#%%\n"
    }
   },
   "outputs": [
    {
     "ename": "TypeError",
     "evalue": "encode_labels() missing 1 required positional argument: 'le_dict'",
     "output_type": "error",
     "traceback": [
      "\u001b[0;31m---------------------------------------------------------------------------\u001b[0m",
      "\u001b[0;31mTypeError\u001b[0m                                 Traceback (most recent call last)",
      "Cell \u001b[0;32mIn [66], line 5\u001b[0m\n\u001b[1;32m      2\u001b[0m \u001b[39mfrom\u001b[39;00m \u001b[39mutils\u001b[39;00m \u001b[39mimport\u001b[39;00m \u001b[39m*\u001b[39m\n\u001b[1;32m      4\u001b[0m train_embedding_matrix \u001b[39m=\u001b[39m create_embedding_matrix(train_tokenizer, train_vocab_size)\n\u001b[0;32m----> 5\u001b[0m train_labels, train_encoder \u001b[39m=\u001b[39m encode_labels(train_frame)\n\u001b[1;32m      7\u001b[0m \u001b[39mprint\u001b[39m(\u001b[39m\"\u001b[39m\u001b[39mCreate embedding model...\u001b[39m\u001b[39m\"\u001b[39m)\n\u001b[1;32m      8\u001b[0m model \u001b[39m=\u001b[39m create_model(train_vocab_size, train_embedding_matrix,model_type\u001b[39m=\u001b[39m\u001b[39m'\u001b[39m\u001b[39mgru\u001b[39m\u001b[39m'\u001b[39m, plot_model\u001b[39m=\u001b[39m\u001b[39mTrue\u001b[39;00m)\n",
      "\u001b[0;31mTypeError\u001b[0m: encode_labels() missing 1 required positional argument: 'le_dict'"
     ]
    }
   ],
   "source": [
    "# Base model\n",
    "from utils import *\n",
    "\n",
    "train_embedding_matrix = create_embedding_matrix(train_tokenizer, train_vocab_size)\n",
    "train_labels, train_encoder = encode_labels(train_frame)\n",
    "\n",
    "print(\"Create embedding model...\")\n",
    "model = create_model(train_vocab_size, train_embedding_matrix,model_type='gru', plot_model=True)\n",
    "\n",
    "val_labels, val_encoder = encode_labels(val_frame)\n",
    "val_data = (val_padded_docs, val_labels)\n",
    "\n",
    "print(\"Fit model to train data in\", 15, \"epochs... \")\n",
    "history = model.fit(train_padded_docs, train_labels,validation_data=val_data, epochs=15, verbose=1)\n",
    "plot_history(history)\n",
    "\n",
    "print(\"Print full report on validation data...\")\n",
    "# predict val data\n",
    "full_multiclass_report(model, val_padded_docs, val_labels, val_encoder.inverse_transform(np.arange(45)))\n",
    "\n",
    "print(\"Print full report on test data...\")\n",
    "# predict test data\n",
    "test_labels, test_encoder = encode_labels(test_frame)\n",
    "full_multiclass_report(model, test_padded_docs, test_labels, test_encoder.inverse_transform(np.arange(45)))"
   ]
  },
  {
   "cell_type": "code",
   "execution_count": 90,
   "metadata": {
    "collapsed": false,
    "pycharm": {
     "name": "#%%\n"
    }
   },
   "outputs": [
    {
     "name": "stdout",
     "output_type": "stream",
     "text": [
      "Create embedding model...\n",
      "Fit model to train data in 15 epochs... \n",
      "Epoch 1/15\n",
      "1413/1413 [==============================] - 6s 3ms/step - loss: 0.9558 - accuracy: 0.7241 - val_loss: 0.6263 - val_accuracy: 0.7978\n",
      "Epoch 2/15\n",
      "1413/1413 [==============================] - 4s 3ms/step - loss: 0.5344 - accuracy: 0.8224 - val_loss: 0.5652 - val_accuracy: 0.8051\n",
      "Epoch 3/15\n",
      "1413/1413 [==============================] - 4s 3ms/step - loss: 0.4712 - accuracy: 0.8348 - val_loss: 0.5327 - val_accuracy: 0.8174\n",
      "Epoch 4/15\n",
      "1413/1413 [==============================] - 4s 3ms/step - loss: 0.4400 - accuracy: 0.8413 - val_loss: 0.5192 - val_accuracy: 0.8131\n",
      "Epoch 5/15\n",
      "1413/1413 [==============================] - 4s 3ms/step - loss: 0.4211 - accuracy: 0.8449 - val_loss: 0.5165 - val_accuracy: 0.8187\n",
      "Epoch 6/15\n",
      "1413/1413 [==============================] - 4s 3ms/step - loss: 0.4056 - accuracy: 0.8496 - val_loss: 0.5060 - val_accuracy: 0.8240\n",
      "Epoch 7/15\n",
      "1413/1413 [==============================] - 4s 3ms/step - loss: 0.3970 - accuracy: 0.8489 - val_loss: 0.5064 - val_accuracy: 0.8240\n",
      "Epoch 8/15\n",
      "1413/1413 [==============================] - 4s 3ms/step - loss: 0.3888 - accuracy: 0.8520 - val_loss: 0.5099 - val_accuracy: 0.8240\n",
      "Epoch 9/15\n",
      "1413/1413 [==============================] - 4s 3ms/step - loss: 0.3816 - accuracy: 0.8532 - val_loss: 0.5144 - val_accuracy: 0.8209\n",
      "Epoch 10/15\n",
      "1413/1413 [==============================] - 5s 3ms/step - loss: 0.3768 - accuracy: 0.8551 - val_loss: 0.5210 - val_accuracy: 0.8197\n",
      "Epoch 11/15\n",
      "1413/1413 [==============================] - 4s 3ms/step - loss: 0.3724 - accuracy: 0.8554 - val_loss: 0.5216 - val_accuracy: 0.8162\n",
      "Epoch 12/15\n",
      "1413/1413 [==============================] - 4s 3ms/step - loss: 0.3687 - accuracy: 0.8563 - val_loss: 0.5210 - val_accuracy: 0.8190\n",
      "Epoch 13/15\n",
      "1413/1413 [==============================] - 4s 3ms/step - loss: 0.3661 - accuracy: 0.8554 - val_loss: 0.5217 - val_accuracy: 0.8247\n",
      "Epoch 14/15\n",
      "1413/1413 [==============================] - 4s 3ms/step - loss: 0.3630 - accuracy: 0.8566 - val_loss: 0.5237 - val_accuracy: 0.8235\n",
      "Epoch 15/15\n",
      "1413/1413 [==============================] - 4s 3ms/step - loss: 0.3614 - accuracy: 0.8573 - val_loss: 0.5258 - val_accuracy: 0.8231\n"
     ]
    },
    {
     "data": {
      "image/png": "[encoded data removed]",
      "text/plain": [
       "<Figure size 640x480 with 1 Axes>"
      ]
     },
     "metadata": {},
     "output_type": "display_data"
    },
    {
     "data": {
      "image/png": "[encoded data removed]",
      "text/plain": [
       "<Figure size 640x480 with 1 Axes>"
      ]
     },
     "metadata": {},
     "output_type": "display_data"
    },
    {
     "name": "stdout",
     "output_type": "stream",
     "text": [
      "Print full report on validation data...\n",
      "879/879 [==============================] - 1s 1ms/step\n",
      "Accuracy : 0.8230648833238474\n",
      "\n",
      "\n",
      "Classification Report without punctuation\n",
      "              precision    recall  f1-score   support\n",
      "\n",
      "       -LRB-    1.00000   1.00000   1.00000        40\n",
      "       -RRB-    0.88889   1.00000   0.94118        40\n",
      "          CC    0.99021   0.96810   0.97903       627\n",
      "          CD    0.98021   0.99157   0.98586       949\n",
      "          DT    0.98741   0.98858   0.98799      2539\n",
      "          EX    0.91892   1.00000   0.95775        34\n",
      "          FW    0.00000   0.00000   0.00000         0\n",
      "          IN    0.94961   0.98459   0.96679      2986\n",
      "          JJ    0.77571   0.73474   0.75467      1704\n",
      "         JJR    0.82759   0.49485   0.61935        97\n",
      "         JJS    0.80597   0.96429   0.87805        56\n",
      "          LS    0.00000   0.00000   0.00000         0\n",
      "          MD    0.97015   1.00000   0.98485       260\n",
      "          NN    0.82424   0.82051   0.82237      3978\n",
      "         NNP    0.81254   0.80134   0.80691      2829\n",
      "        NNPS    0.68182   0.23810   0.35294        63\n",
      "         NNS    0.91365   0.94898   0.93098      1862\n",
      "         PDT    0.00000   0.00000   0.00000         9\n",
      "         POS    0.92105   1.00000   0.95890       210\n",
      "         PRP    0.99222   0.96958   0.98077       526\n",
      "        PRP$    0.93365   1.00000   0.96569       197\n",
      "          RB    0.93203   0.81860   0.87164       871\n",
      "         RBR    0.23333   0.56000   0.32941        25\n",
      "         RBS    0.00000   0.00000   0.00000         9\n",
      "          RP    0.43564   0.78571   0.56051        56\n",
      "         SYM    0.00000   0.00000   0.00000         1\n",
      "          TO    1.00000   1.00000   1.00000       639\n",
      "          UH    0.00000   0.00000   0.00000         1\n",
      "          VB    0.68286   0.72065   0.70125       741\n",
      "         VBD    0.80193   0.84608   0.82341       981\n",
      "         VBG    0.86750   0.76600   0.81360       453\n",
      "         VBN    0.66780   0.62639   0.64643       629\n",
      "         VBP    0.77532   0.60049   0.67680       408\n",
      "         VBZ    0.96341   0.89627   0.92863       617\n",
      "         WDT    1.00000   0.55556   0.71429       144\n",
      "          WP    1.00000   1.00000   1.00000        87\n",
      "         WP$    1.00000   1.00000   1.00000         5\n",
      "         WRB    1.00000   0.98361   0.99174        61\n",
      "          ``    0.00000   0.00000   0.00000       235\n",
      "\n",
      "   micro avg    0.87784   0.86111   0.86939     24969\n",
      "   macro avg    0.70599   0.69396   0.69056     24969\n",
      "weighted avg    0.86969   0.86111   0.86381     24969\n",
      "\n",
      "[[  0   0   0 ...   0   0   0]\n",
      " [  0   0   0 ...   0   0   0]\n",
      " [  0   0 227 ...   0   0   0]\n",
      " ...\n",
      " [  0   0   0 ...   5   0   0]\n",
      " [  0   0   0 ...   0  60   0]\n",
      " [  0   0   0 ...   0   0   0]]\n",
      "Print full report on test data...\n",
      "650/650 [==============================] - 1s 837us/step\n",
      "Accuracy : 0.7456549997592797\n",
      "\n",
      "\n",
      "Classification Report without punctuation\n",
      "              precision    recall  f1-score   support\n",
      "\n",
      "       -LRB-    1.00000   1.00000   1.00000        30\n",
      "       -RRB-    1.00000   1.00000   1.00000        33\n",
      "          CC    0.98720   0.97826   0.98271       552\n",
      "          CD    0.97583   0.93423   0.95457       821\n",
      "          DT    0.98435   0.98321   0.98378      1727\n",
      "          EX    0.80000   1.00000   0.88889        20\n",
      "          FW    0.00000   0.00000   0.00000         1\n",
      "          IN    0.94123   0.98261   0.96147      2070\n",
      "          JJ    0.80137   0.62663   0.70331      1307\n",
      "         JJR    0.86364   0.65517   0.74510        58\n",
      "         JJS    0.79487   0.83784   0.81579        37\n",
      "          LS    0.00000   0.00000   0.00000         8\n",
      "          MD    0.98985   1.00000   0.99490       195\n",
      "          NN    0.81309   0.70986   0.75797      2678\n",
      "         NNP    0.81841   0.54711   0.65581      2356\n",
      "        NNPS    0.42308   0.19643   0.26829        56\n",
      "         NNS    0.90722   0.78956   0.84431      1226\n",
      "         PDT    0.00000   0.00000   0.00000         5\n",
      "         POS    0.79227   1.00000   0.88410       164\n",
      "         PRP    0.99297   0.99297   0.99297       427\n",
      "        PRP$    0.99346   1.00000   0.99672       152\n",
      "          RB    0.93517   0.79599   0.85998       598\n",
      "         RBR    0.57143   0.76923   0.65574        26\n",
      "         RBS    0.00000   0.00000   0.00000         7\n",
      "          RP    0.53968   0.68000   0.60177        50\n",
      "         SYM    0.00000   0.00000   0.00000         0\n",
      "          TO    0.99782   1.00000   0.99891       458\n",
      "          UH    0.00000   0.00000   0.00000         0\n",
      "          VB    0.75000   0.65642   0.70010       553\n",
      "         VBD    0.78194   0.76246   0.77208       602\n",
      "         VBG    0.90625   0.55063   0.68504       316\n",
      "         VBN    0.71930   0.55945   0.62939       513\n",
      "         VBP    0.78599   0.69178   0.73588       292\n",
      "         VBZ    0.96212   0.79707   0.87185       478\n",
      "         WDT    1.00000   0.40506   0.57658        79\n",
      "          WP    0.98039   1.00000   0.99010        50\n",
      "         WP$    1.00000   1.00000   1.00000         2\n",
      "         WRB    1.00000   1.00000   1.00000        40\n",
      "          ``    0.00000   0.00000   0.00000       173\n",
      "\n",
      "   micro avg    0.88584   0.77599   0.82729     18160\n",
      "   macro avg    0.71305   0.66415   0.67970     18160\n",
      "weighted avg    0.86994   0.77599   0.81538     18160\n",
      "\n",
      "[[   0    0  220 ...    0    0    0]\n",
      " [   0  166    0 ...    0    0    0]\n",
      " [   0    0 1230 ...    0    0    0]\n",
      " ...\n",
      " [   0    0    0 ...    2    0    0]\n",
      " [   0    0    0 ...    0   40    0]\n",
      " [   0    0  173 ...    0    0    0]]\n"
     ]
    }
   ],
   "source": [
    "# Base model\n",
    "from utils import *\n",
    "\n",
    "train_embedding_matrix = create_embedding_matrix(train_tokenizer, train_vocab_size)\n",
    "train_labels, train_encoder = encode_labels(train_frame)\n",
    "\n",
    "print(\"Create embedding model...\")\n",
    "model = create_model(train_vocab_size, train_embedding_matrix, model_type='lstm', plot_model=True)\n",
    "\n",
    "val_labels, val_encoder = encode_labels(val_frame)\n",
    "val_data = (val_padded_docs, val_labels)\n",
    "\n",
    "print(\"Fit model to train data in\", 15, \"epochs... \")\n",
    "history = model.fit(train_padded_docs, train_labels,validation_data=val_data, epochs=15, verbose=1)\n",
    "plot_history(history)\n",
    "\n",
    "print(\"Print full report on validation data...\")\n",
    "# predict val data\n",
    "full_multiclass_report(model, val_padded_docs, val_labels, val_encoder.inverse_transform(np.arange(45)))\n",
    "\n",
    "print(\"Print full report on test data...\")\n",
    "# predict test data\n",
    "test_labels, test_encoder = encode_labels(test_frame)\n",
    "full_multiclass_report(model, test_padded_docs, test_labels, test_encoder.inverse_transform(np.arange(45)))"
   ]
  },
  {
   "cell_type": "code",
   "execution_count": 57,
   "metadata": {},
   "outputs": [
    {
     "name": "stdout",
     "output_type": "stream",
     "text": [
      "Create embedding model...\n",
      "Fit model to train data in 15 epochs... \n",
      "Epoch 1/15\n",
      "1413/1413 [==============================] - 4s 2ms/step - loss: 0.8856 - accuracy: 0.7418 - val_loss: 0.6284 - val_accuracy: 0.7876\n",
      "Epoch 2/15\n",
      "1413/1413 [==============================] - 3s 2ms/step - loss: 0.5298 - accuracy: 0.8199 - val_loss: 0.5661 - val_accuracy: 0.8062\n",
      "Epoch 3/15\n",
      "1413/1413 [==============================] - 3s 2ms/step - loss: 0.4707 - accuracy: 0.8343 - val_loss: 0.5270 - val_accuracy: 0.8203\n",
      "Epoch 4/15\n",
      "1413/1413 [==============================] - 3s 2ms/step - loss: 0.4430 - accuracy: 0.8399 - val_loss: 0.5205 - val_accuracy: 0.8192\n",
      "Epoch 5/15\n",
      "1413/1413 [==============================] - 3s 2ms/step - loss: 0.4241 - accuracy: 0.8430 - val_loss: 0.5100 - val_accuracy: 0.8240\n",
      "Epoch 6/15\n",
      "1413/1413 [==============================] - 3s 2ms/step - loss: 0.4091 - accuracy: 0.8471 - val_loss: 0.5292 - val_accuracy: 0.8109\n",
      "Epoch 7/15\n",
      "1413/1413 [==============================] - 3s 2ms/step - loss: 0.3994 - accuracy: 0.8485 - val_loss: 0.5179 - val_accuracy: 0.8257\n",
      "Epoch 8/15\n",
      "1413/1413 [==============================] - 3s 2ms/step - loss: 0.3904 - accuracy: 0.8525 - val_loss: 0.5261 - val_accuracy: 0.8248\n",
      "Epoch 9/15\n",
      "1413/1413 [==============================] - 3s 2ms/step - loss: 0.3843 - accuracy: 0.8536 - val_loss: 0.5227 - val_accuracy: 0.8223\n",
      "Epoch 10/15\n",
      "1413/1413 [==============================] - 3s 2ms/step - loss: 0.3791 - accuracy: 0.8532 - val_loss: 0.5303 - val_accuracy: 0.8214\n",
      "Epoch 11/15\n",
      "1413/1413 [==============================] - 3s 2ms/step - loss: 0.3756 - accuracy: 0.8540 - val_loss: 0.5433 - val_accuracy: 0.8193\n",
      "Epoch 12/15\n",
      "1413/1413 [==============================] - 3s 2ms/step - loss: 0.3724 - accuracy: 0.8544 - val_loss: 0.5374 - val_accuracy: 0.8247\n",
      "Epoch 13/15\n",
      "1413/1413 [==============================] - 3s 2ms/step - loss: 0.3687 - accuracy: 0.8565 - val_loss: 0.5409 - val_accuracy: 0.8220\n",
      "Epoch 14/15\n",
      "1413/1413 [==============================] - 3s 2ms/step - loss: 0.3669 - accuracy: 0.8554 - val_loss: 0.5347 - val_accuracy: 0.8255\n",
      "Epoch 15/15\n",
      "1413/1413 [==============================] - 3s 2ms/step - loss: 0.3646 - accuracy: 0.8567 - val_loss: 0.5431 - val_accuracy: 0.8170\n"
     ]
    },
    {
     "data": {
      "image/png": "[encoded data removed]",
      "text/plain": [
       "<Figure size 640x480 with 1 Axes>"
      ]
     },
     "metadata": {},
     "output_type": "display_data"
    },
    {
     "data": {
      "image/png": "[encoded data removed]",
      "text/plain": [
       "<Figure size 640x480 with 1 Axes>"
      ]
     },
     "metadata": {},
     "output_type": "display_data"
    },
    {
     "name": "stdout",
     "output_type": "stream",
     "text": [
      "Print full report on validation data...\n",
      "879/879 [==============================] - 1s 654us/step\n",
      "Accuracy : 0.8169820717131474\n",
      "\n",
      "[20  3  3 ... 14 22  3]\n",
      "[20 20  3 ... 14 22  6]\n",
      "Classification Report\n",
      "              precision    recall  f1-score   support\n",
      "\n",
      "           0    0.00000   0.00000   0.00000         3\n",
      "           1    0.00000   0.00000   0.00000       168\n",
      "           2    1.00000   0.99127   0.99561       229\n",
      "           3    0.41568   1.00000   0.58726      1410\n",
      "           4    1.00000   1.00000   1.00000        40\n",
      "           5    0.97561   1.00000   0.98765        40\n",
      "           6    0.00000   0.00000   0.00000      1165\n",
      "           7    0.00000   0.00000   0.00000       168\n",
      "           8    0.99671   0.96651   0.98138       627\n",
      "           9    0.98121   0.99052   0.98584       949\n",
      "          10    0.98741   0.98858   0.98799      2539\n",
      "          11    0.91892   1.00000   0.95775        34\n",
      "          13    0.97915   0.92800   0.95289      2986\n",
      "          14    0.73853   0.75587   0.74710      1704\n",
      "          15    0.82759   0.49485   0.61935        97\n",
      "          16    0.90476   0.67857   0.77551        56\n",
      "          18    0.96296   1.00000   0.98113       260\n",
      "          19    0.82053   0.80794   0.81419      3978\n",
      "          20    0.83647   0.77024   0.80199      2829\n",
      "          21    0.50000   0.25397   0.33684        63\n",
      "          22    0.90947   0.94415   0.92648      1862\n",
      "          23    0.00000   0.00000   0.00000         9\n",
      "          24    0.92105   1.00000   0.95890       210\n",
      "          25    0.98081   0.97148   0.97612       526\n",
      "          26    0.93365   1.00000   0.96569       197\n",
      "          27    0.87644   0.87141   0.87392       871\n",
      "          28    0.23333   0.56000   0.32941        25\n",
      "          29    0.37500   1.00000   0.54545         9\n",
      "          30    0.45977   0.71429   0.55944        56\n",
      "          31    0.00000   0.00000   0.00000         1\n",
      "          32    1.00000   1.00000   1.00000       639\n",
      "          33    0.00000   0.00000   0.00000         1\n",
      "          34    0.70795   0.62483   0.66380       741\n",
      "          35    0.82411   0.85015   0.83693       981\n",
      "          36    0.88665   0.77704   0.82824       453\n",
      "          37    0.67638   0.66455   0.67041       629\n",
      "          38    0.65695   0.71814   0.68618       408\n",
      "          39    0.95345   0.89627   0.92398       617\n",
      "          40    0.42478   1.00000   0.59627       144\n",
      "          41    0.97753   1.00000   0.98864        87\n",
      "          42    1.00000   1.00000   1.00000         5\n",
      "          43    1.00000   0.98361   0.99174        61\n",
      "          44    0.00000   0.00000   0.00000       235\n",
      "\n",
      "    accuracy                        0.81698     28112\n",
      "   macro avg    0.66611   0.70238   0.67056     28112\n",
      "weighted avg    0.79918   0.81698   0.80056     28112\n",
      "\n",
      "[[  0   0   0 ...   0   0   0]\n",
      " [  0   0   0 ...   0   0   0]\n",
      " [  0   0 227 ...   0   0   0]\n",
      " ...\n",
      " [  0   0   0 ...   5   0   0]\n",
      " [  0   0   0 ...   0  60   0]\n",
      " [  0   0   0 ...   0   0   0]]\n",
      "Print full report on test data...\n",
      "650/650 [==============================] - 0s 615us/step\n",
      "Accuracy : 0.7407924510134322\n",
      "\n",
      "[13  9 22 ... 19 14  3]\n",
      "[13  9 22 ... 20 20  6]\n",
      "Classification Report\n",
      "              precision    recall  f1-score   support\n",
      "\n",
      "           1    0.00000   0.00000   0.00000       220\n",
      "           2    1.00000   0.99401   0.99700       167\n",
      "           3    0.26187   1.00000   0.41505      1230\n",
      "           4    1.00000   1.00000   1.00000        30\n",
      "           5    1.00000   1.00000   1.00000        33\n",
      "           6    0.00000   0.00000   0.00000       842\n",
      "           7    0.00000   0.00000   0.00000       152\n",
      "           8    0.99083   0.97826   0.98450       552\n",
      "           9    0.97707   0.93423   0.95517       821\n",
      "          10    0.98435   0.98321   0.98378      1727\n",
      "          11    0.80000   1.00000   0.88889        20\n",
      "          12    0.00000   0.00000   0.00000         1\n",
      "          13    0.97069   0.92802   0.94888      2070\n",
      "          14    0.76567   0.68248   0.72168      1307\n",
      "          15    0.86364   0.65517   0.74510        58\n",
      "          16    0.90476   0.51351   0.65517        37\n",
      "          17    0.00000   0.00000   0.00000         8\n",
      "          18    0.98985   1.00000   0.99490       195\n",
      "          19    0.81433   0.69604   0.75055      2678\n",
      "          20    0.85754   0.52886   0.65424      2356\n",
      "          21    0.44828   0.23214   0.30588        56\n",
      "          22    0.92308   0.77325   0.84154      1226\n",
      "          23    0.00000   0.00000   0.00000         5\n",
      "          24    0.79227   1.00000   0.88410       164\n",
      "          25    0.99301   0.99766   0.99533       427\n",
      "          26    0.99346   1.00000   0.99672       152\n",
      "          27    0.86609   0.83278   0.84910       598\n",
      "          28    0.57143   0.76923   0.65574        26\n",
      "          29    0.38889   1.00000   0.56000         7\n",
      "          30    0.59615   0.62000   0.60784        50\n",
      "          32    0.99782   1.00000   0.99891       458\n",
      "          34    0.76179   0.58409   0.66121       553\n",
      "          35    0.77816   0.75748   0.76768       602\n",
      "          36    0.88482   0.53481   0.66667       316\n",
      "          37    0.71429   0.55556   0.62500       513\n",
      "          38    0.69811   0.76027   0.72787       292\n",
      "          39    0.94840   0.80753   0.87232       478\n",
      "          40    0.36279   0.98734   0.53061        79\n",
      "          41    0.98039   1.00000   0.99010        50\n",
      "          42    1.00000   1.00000   1.00000         2\n",
      "          43    1.00000   1.00000   1.00000        40\n",
      "          44    0.00000   0.00000   0.00000       173\n",
      "\n",
      "    accuracy                        0.74079     20771\n",
      "   macro avg    0.68761   0.69300   0.67218     20771\n",
      "weighted avg    0.78483   0.74079   0.74208     20771\n",
      "\n",
      "[[   0    0  220 ...    0    0    0]\n",
      " [   0  166    0 ...    0    0    0]\n",
      " [   0    0 1230 ...    0    0    0]\n",
      " ...\n",
      " [   0    0    0 ...    2    0    0]\n",
      " [   0    0    0 ...    0   40    0]\n",
      " [   0    0  173 ...    0    0    0]]\n"
     ]
    }
   ],
   "source": [
    "# Dense model\n",
    "from utils import *\n",
    "\n",
    "train_embedding_matrix = create_embedding_matrix(train_tokenizer, train_vocab_size)\n",
    "train_labels, train_encoder = encode_labels(train_frame)\n",
    "\n",
    "print(\"Create embedding model...\")\n",
    "model = create_model(train_vocab_size, train_embedding_matrix, model_type='dense', plot_model=True)\n",
    "\n",
    "val_labels, val_encoder = encode_labels(val_frame)\n",
    "val_data = (val_padded_docs, val_labels)\n",
    "\n",
    "print(\"Fit model to train data in\", 15, \"epochs... \")\n",
    "history = model.fit(train_padded_docs, train_labels,validation_data=val_data, epochs=15, verbose=1)\n",
    "plot_history(history)\n",
    "\n",
    "print(\"Print full report on validation data...\")\n",
    "# predict val data\n",
    "full_multiclass_report(model, val_padded_docs, val_labels, val_encoder.inverse_transform(np.arange(45)))\n",
    "\n",
    "print(\"Print full report on test data...\")\n",
    "# predict test data\n",
    "test_labels, test_encoder = encode_labels(test_frame)\n",
    "full_multiclass_report(model, test_padded_docs, test_labels, test_encoder.inverse_transform(np.arange(45)))"
   ]
  },
  {
   "cell_type": "markdown",
   "metadata": {},
   "source": [
    "TEST AREA"
   ]
  },
  {
   "cell_type": "code",
   "execution_count": 29,
   "metadata": {},
   "outputs": [
    {
     "data": {
      "text/plain": [
       "44"
      ]
     },
     "execution_count": 29,
     "metadata": {},
     "output_type": "execute_result"
    }
   ],
   "source": [
    "# import numpy as np\n",
    "# # predict model test\n",
    "# predictions = model.predict(test_padded_docs, verbose=1)\n",
    "# # map predicted labels to words\n",
    "# predicted_labels = []\n",
    "# for i in predictions:\n",
    "#     for word, index in test_tokenizer.word_index.items():\n",
    "#         if index == np.argmax(i):\n",
    "#             predicted_labels.append(word)\n",
    "#             break\n",
    "# # map actual labels to words\n",
    "# actual_labels = []\n",
    "# for i in test_frame['pos'].values:\n",
    "#     for word, index in test_tokenizer.word_index.items():\n",
    "#         if index == i:\n",
    "#             actual_labels.append(word)\n",
    "#             break\n",
    "# # create confusion matrix\n",
    "# confusion_matrix = pd.crosstab(pd.Series(actual_labels), pd.Series(predicted_labels), rownames=['Actual'], colnames=['Predicted'])"
   ]
  },
  {
   "cell_type": "code",
   "execution_count": 34,
   "metadata": {},
   "outputs": [
    {
     "data": {
      "text/plain": [
       "35"
      ]
     },
     "execution_count": 34,
     "metadata": {},
     "output_type": "execute_result"
    }
   ],
   "source": [
    "# import numpy as np\n",
    "# np.argmax(val_labels[0])\n",
    "# np.argmax(predictions[0])"
   ]
  },
  {
   "cell_type": "code",
   "execution_count": null,
   "metadata": {},
   "outputs": [],
   "source": [
    "model = Sequential()\n",
    "# Adding the input layer and the first hidden layer\n",
    "model.add(Dense(16, activation = 'relu', input_dim = 243))\n",
    "# Adding the output layer\n",
    "model.add(Dense(units = 1))\n",
    "model.compile(optimizer = 'adam',loss = 'mean_squared_error')\n",
    "\n",
    "es = EarlyStopping(monitor='val_loss', mode='min', verbose=1, patience=40) # Model stop training after 40 epoch where validation loss didnt decrease\n",
    "mc = ModelCheckpoint('best_model.h5', monitor='val_loss', mode='min', verbose=1, save_best_only=True) #You save model weight at the epoch where validation loss is minimal\n",
    "train = model.fit((train_X, train_label, batch_size=batch_size),epochs=1000,verbose=1,validation_data=(valid_X, valid_label),callbacks=[es,mc])#you can run for 1000 epoch btw model will stop after 40 epoch without better validation loss"
   ]
  }
 ],
 "metadata": {
  "kernelspec": {
   "display_name": "Python 3.8.9 64-bit ('nlp-env')",
   "language": "python",
   "name": "python3"
  },
  "language_info": {
   "codemirror_mode": {
    "name": "ipython",
    "version": 3
   },
   "file_extension": ".py",
   "mimetype": "text/x-python",
   "name": "python",
   "nbconvert_exporter": "python",
   "pygments_lexer": "ipython3",
   "version": "3.8.9"
  },
  "orig_nbformat": 4,
  "vscode": {
   "interpreter": {
    "hash": "83996dc0b81395b17a2f017c39a7462422633737611de1f2a39e1edfb0be2356"
   }
  }
 },
 "nbformat": 4,
 "nbformat_minor": 2
}
